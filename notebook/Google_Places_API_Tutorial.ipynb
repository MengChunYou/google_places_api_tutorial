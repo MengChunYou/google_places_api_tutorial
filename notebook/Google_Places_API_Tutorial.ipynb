{
 "cells": [
  {
   "cell_type": "markdown",
   "id": "6fde8ea9-346e-4a52-9d38-d63bcc67e343",
   "metadata": {
    "id": "6fde8ea9-346e-4a52-9d38-d63bcc67e343"
   },
   "source": [
    "# 知識補充工作坊 Python Google Places API"
   ]
  },
  {
   "cell_type": "code",
   "execution_count": 4,
   "id": "c44d53e5-8531-4aeb-a643-ceb23472e85c",
   "metadata": {
    "id": "c44d53e5-8531-4aeb-a643-ceb23472e85c"
   },
   "outputs": [],
   "source": [
    "# 載入套件\n",
    "import os\n",
    "import json\n",
    "import requests\n",
    "import pandas as pd"
   ]
  },
  {
   "cell_type": "markdown",
   "id": "54e63888-d16b-4507-8a51-a7d594d84567",
   "metadata": {
    "id": "54e63888-d16b-4507-8a51-a7d594d84567"
   },
   "source": [
    "## 1. Place Details API 串接\n",
    "\n",
    "* 已知 Place ID ，直接蒐集地點細節資訊\n",
    "* Request Method: Get\n",
    "* Response: Google 定義之 Place 物件"
   ]
  },
  {
   "cell_type": "code",
   "execution_count": 5,
   "id": "skFB2uANFuyv",
   "metadata": {
    "id": "skFB2uANFuyv"
   },
   "outputs": [],
   "source": [
    "my_key = \"your_key_123456\" # 請輸入個人的 API KEY"
   ]
  },
  {
   "cell_type": "markdown",
   "id": "c5f206a1-b415-408b-9217-ac232aea434a",
   "metadata": {
    "id": "c5f206a1-b415-408b-9217-ac232aea434a"
   },
   "source": [
    "`requests.get()` 發送 HTTP GET request，回傳 requests 套件下 Class 為 `Response` 的物件"
   ]
  },
  {
   "cell_type": "code",
   "execution_count": 6,
   "id": "435ae5c9-e3de-4f03-b783-8f02118a37ba",
   "metadata": {
    "id": "435ae5c9-e3de-4f03-b783-8f02118a37ba"
   },
   "outputs": [],
   "source": [
    "my_place_id = \"ChIJL-BJs3aqQjQRT5fEKex6ruo\" # 已知 Place ID\n",
    "my_fields = \"id,displayName,types,primaryType,location,rating,userRatingCount,dineIn,takeout\" # 逗點分隔 # 不可有空格\n",
    "my_languageCode = \"zh-TW\" # for Mandarin Chinese (Taiwan)\n",
    "\n",
    "# 放入 place_id, fields, languageCode, key 等參數，發送 request\n",
    "response = requests.get(f\"https://places.googleapis.com/v1/places/{my_place_id}?fields={my_fields}&languageCode={my_languageCode}&key={my_key}\")"
   ]
  },
  {
   "cell_type": "code",
   "execution_count": 7,
   "id": "8a7f2b7c-f81c-4944-be8d-2347d2101aa6",
   "metadata": {
    "colab": {
     "base_uri": "https://localhost:8080/"
    },
    "id": "8a7f2b7c-f81c-4944-be8d-2347d2101aa6",
    "outputId": "954269cf-ce7c-4765-d6e0-9096a624d904"
   },
   "outputs": [
    {
     "data": {
      "text/plain": [
       "requests.models.Response"
      ]
     },
     "execution_count": 7,
     "metadata": {},
     "output_type": "execute_result"
    }
   ],
   "source": [
    "type(response)"
   ]
  },
  {
   "cell_type": "markdown",
   "id": "1c03ae4c-9fcb-4fea-9870-6893956b2a91",
   "metadata": {
    "id": "1c03ae4c-9fcb-4fea-9870-6893956b2a91"
   },
   "source": [
    "`Response.text` 取出 Response 中的文字內容"
   ]
  },
  {
   "cell_type": "code",
   "execution_count": 8,
   "id": "844ca690-b2ec-4977-80ab-449f388550b6",
   "metadata": {
    "colab": {
     "base_uri": "https://localhost:8080/"
    },
    "id": "844ca690-b2ec-4977-80ab-449f388550b6",
    "outputId": "356c4636-9067-4959-850f-35c867aff8b8"
   },
   "outputs": [
    {
     "name": "stdout",
     "output_type": "stream",
     "text": [
      "{\n",
      "  \"id\": \"ChIJL-BJs3aqQjQRT5fEKex6ruo\",\n",
      "  \"types\": [\n",
      "    \"fast_food_restaurant\",\n",
      "    \"hamburger_restaurant\",\n",
      "    \"brunch_restaurant\",\n",
      "    \"american_restaurant\",\n",
      "    \"restaurant\",\n",
      "    \"food\",\n",
      "    \"point_of_interest\",\n",
      "    \"establishment\"\n",
      "  ],\n",
      "  \"location\": {\n",
      "    \"latitude\": 24.9879391,\n",
      "    \"longitude\": 121.5748269\n",
      "  },\n",
      "  \"rating\": 3,\n",
      "  \"userRatingCount\": 1339,\n",
      "  \"displayName\": {\n",
      "    \"text\": \"麥當勞-台北指南餐廳\",\n",
      "    \"languageCode\": \"zh-TW\"\n",
      "  },\n",
      "  \"takeout\": true,\n",
      "  \"dineIn\": true,\n",
      "  \"primaryType\": \"fast_food_restaurant\"\n",
      "}\n",
      "\n"
     ]
    }
   ],
   "source": [
    "print(response.text)"
   ]
  },
  {
   "cell_type": "markdown",
   "id": "89800a1a-d8a4-4574-886d-5c7a51d17213",
   "metadata": {
    "id": "89800a1a-d8a4-4574-886d-5c7a51d17213"
   },
   "source": [
    "`Response.json()` 將 `Response` 中的 JSON 字串轉換成 Python 的 `Dictionary` 資料型態"
   ]
  },
  {
   "cell_type": "code",
   "execution_count": 9,
   "id": "556931be-f8ca-4423-9d25-a46671e8d171",
   "metadata": {
    "colab": {
     "base_uri": "https://localhost:8080/"
    },
    "id": "556931be-f8ca-4423-9d25-a46671e8d171",
    "outputId": "b5e90a04-e211-4589-ba05-6b2e7abb3b2c"
   },
   "outputs": [
    {
     "data": {
      "text/plain": [
       "dict"
      ]
     },
     "execution_count": 9,
     "metadata": {},
     "output_type": "execute_result"
    }
   ],
   "source": [
    "place_details = response.json()\n",
    "type(place_details)"
   ]
  },
  {
   "cell_type": "code",
   "execution_count": 10,
   "id": "6903bc9c-accb-4485-a276-0c372636d3d4",
   "metadata": {
    "colab": {
     "base_uri": "https://localhost:8080/"
    },
    "id": "6903bc9c-accb-4485-a276-0c372636d3d4",
    "outputId": "90b0143c-da4e-4133-c501-5abf216c4090"
   },
   "outputs": [
    {
     "data": {
      "text/plain": [
       "{'id': 'ChIJL-BJs3aqQjQRT5fEKex6ruo',\n",
       " 'types': ['fast_food_restaurant',\n",
       "  'hamburger_restaurant',\n",
       "  'brunch_restaurant',\n",
       "  'american_restaurant',\n",
       "  'restaurant',\n",
       "  'food',\n",
       "  'point_of_interest',\n",
       "  'establishment'],\n",
       " 'location': {'latitude': 24.9879391, 'longitude': 121.5748269},\n",
       " 'rating': 3,\n",
       " 'userRatingCount': 1339,\n",
       " 'displayName': {'text': '麥當勞-台北指南餐廳', 'languageCode': 'zh-TW'},\n",
       " 'takeout': True,\n",
       " 'dineIn': True,\n",
       " 'primaryType': 'fast_food_restaurant'}"
      ]
     },
     "execution_count": 10,
     "metadata": {},
     "output_type": "execute_result"
    }
   ],
   "source": [
    "place_details"
   ]
  },
  {
   "cell_type": "code",
   "execution_count": 11,
   "id": "f908026f-b74b-4f50-aa0f-3677626887f0",
   "metadata": {
    "colab": {
     "base_uri": "https://localhost:8080/"
    },
    "id": "f908026f-b74b-4f50-aa0f-3677626887f0",
    "outputId": "62bc6746-b825-4fe3-a9ab-f11cf9f73356"
   },
   "outputs": [
    {
     "data": {
      "text/plain": [
       "{'id': 'ChIJL-BJs3aqQjQRT5fEKex6ruo',\n",
       " 'name': '麥當勞-台北指南餐廳',\n",
       " 'rating': 3,\n",
       " 'rating_count': 1339,\n",
       " 'is_restaurant': True,\n",
       " 'primary_type': 'fast_food_restaurant',\n",
       " 'lat': 24.9879391,\n",
       " 'lng': 121.5748269,\n",
       " 'dine_in': True,\n",
       " 'takeout': True}"
      ]
     },
     "execution_count": 11,
     "metadata": {},
     "output_type": "execute_result"
    }
   ],
   "source": [
    "# 可用多個中括號取出所需資訊\n",
    "{\n",
    "    \"id\": place_details['id'],\n",
    "    \"name\": place_details['displayName']['text'],\n",
    "    \"rating\": place_details['rating'],\n",
    "    \"rating_count\": place_details['userRatingCount'],\n",
    "    \"is_restaurant\": \"restaurant\" in place_details['types'],\n",
    "    \"primary_type\": place_details['primaryType'],\n",
    "    \"lat\": place_details['location']['latitude'],\n",
    "    \"lng\": place_details['location']['longitude'],\n",
    "    \"dine_in\": place_details.get('dineIn', False),\n",
    "    \"takeout\": place_details.get('takeout', False)\n",
    "}"
   ]
  },
  {
   "cell_type": "markdown",
   "id": "2ec0cf74-7fbd-4c41-9a62-ef02fe54d973",
   "metadata": {
    "id": "2ec0cf74-7fbd-4c41-9a62-ef02fe54d973"
   },
   "source": [
    "## 2. 搜尋文字 API 串接\n",
    "\n",
    "* 未知 Place ID，透過關鍵字搜尋，在指定空間範圍與特徵之下，找出符合要求的地點，並附上地點資訊\n",
    "* Request Method: Post\n",
    "* Response: JSON 物件，包含 places list 儲存多個 Place 物件"
   ]
  },
  {
   "cell_type": "code",
   "execution_count": 12,
   "id": "3edfd9d4-6a29-493b-aefb-f37ea3dc1372",
   "metadata": {
    "id": "3edfd9d4-6a29-493b-aefb-f37ea3dc1372"
   },
   "outputs": [],
   "source": [
    "headers = {\n",
    "    'X-Goog-Api-Key': my_key,\n",
    "    'X-Goog-FieldMask': \"places.id,places.displayName,places.types,places.primaryType,places.location,places.rating,places.userRatingCount,places.dineIn,places.takeout\", # places.欄位名稱\n",
    "}\n",
    "\n",
    "data = {\n",
    "    \"textQuery\": \"咖啡廳\",\n",
    "    \"maxResultCount\": 10,\n",
    "    \"locationRestriction\": {\n",
    "        \"rectangle\": {\n",
    "            \"low\": {\n",
    "                \"latitude\": 25.01640963187937,\n",
    "                \"longitude\": 121.52877784186686\n",
    "            },\n",
    "            \"high\": {\n",
    "                \"latitude\": 25.02239049647823,\n",
    "                \"longitude\": 121.534573876546\n",
    "            }\n",
    "        }\n",
    "    },\n",
    "    \"languageCode\": \"zh-TW\"\n",
    "}"
   ]
  },
  {
   "cell_type": "markdown",
   "id": "ddbedf56-cf9a-4a12-ab48-435ff8bad5b3",
   "metadata": {
    "id": "ddbedf56-cf9a-4a12-ab48-435ff8bad5b3"
   },
   "source": [
    "`json.dumps()` 將 POST 時欲提交的 data 由 `Dictionary` 轉換成 JSON 格式的字串，並處理編碼"
   ]
  },
  {
   "cell_type": "code",
   "execution_count": 13,
   "id": "c130b88c-eef4-48da-b734-6f01dd9eb071",
   "metadata": {
    "colab": {
     "base_uri": "https://localhost:8080/",
     "height": 52
    },
    "id": "c130b88c-eef4-48da-b734-6f01dd9eb071",
    "outputId": "43141bf2-53fb-483f-a4f6-1ed8b507a664"
   },
   "outputs": [
    {
     "data": {
      "text/plain": [
       "'{\"textQuery\": \"\\\\u5496\\\\u5561\\\\u5ef3\", \"maxResultCount\": 10, \"locationRestriction\": {\"rectangle\": {\"low\": {\"latitude\": 25.01640963187937, \"longitude\": 121.52877784186686}, \"high\": {\"latitude\": 25.02239049647823, \"longitude\": 121.534573876546}}}, \"languageCode\": \"zh-TW\"}'"
      ]
     },
     "execution_count": 13,
     "metadata": {},
     "output_type": "execute_result"
    }
   ],
   "source": [
    "json.dumps(data)"
   ]
  },
  {
   "cell_type": "markdown",
   "id": "S_xWczWHKDuk",
   "metadata": {
    "id": "S_xWczWHKDuk"
   },
   "source": [
    "`requests.post()` 發送 HTTP POST request，附上 data 以及 header"
   ]
  },
  {
   "cell_type": "code",
   "execution_count": 14,
   "id": "a4b6e5b3-2bbe-45d7-8b12-808f88cd0bb8",
   "metadata": {
    "id": "a4b6e5b3-2bbe-45d7-8b12-808f88cd0bb8"
   },
   "outputs": [],
   "source": [
    "# 放入 Api-Key, FieldMask, textQuery, maxResultCount, locationBias, languageCode 等參數，發送 request\n",
    "response = requests.post('https://places.googleapis.com/v1/places:searchText',\n",
    "                         data=json.dumps(data),\n",
    "                         headers=headers)"
   ]
  },
  {
   "cell_type": "markdown",
   "id": "VSAQgpI8KZKz",
   "metadata": {
    "id": "VSAQgpI8KZKz"
   },
   "source": [
    "`Response.json()` 將 `Response` 中的 JSON 字串轉換成 Python 的 `Dictionary` 資料型態"
   ]
  },
  {
   "cell_type": "code",
   "execution_count": 15,
   "id": "ae66905b-4f1e-466a-9bd7-fda87f180927",
   "metadata": {
    "colab": {
     "base_uri": "https://localhost:8080/"
    },
    "id": "ae66905b-4f1e-466a-9bd7-fda87f180927",
    "outputId": "799e5e89-fb37-4b1c-aeae-45eecafdbba7"
   },
   "outputs": [
    {
     "data": {
      "text/plain": [
       "{'places': [{'id': 'ChIJffQZ6YipQjQRAdV3sCg2bcM',\n",
       "   'types': ['coffee_shop',\n",
       "    'cafe',\n",
       "    'restaurant',\n",
       "    'food',\n",
       "    'point_of_interest',\n",
       "    'store',\n",
       "    'establishment'],\n",
       "   'location': {'latitude': 25.021369000000004,\n",
       "    'longitude': 121.53295240000001},\n",
       "   'rating': 4.3,\n",
       "   'userRatingCount': 714,\n",
       "   'displayName': {'text': 'Rebirth Cafe & Restaurant',\n",
       "    'languageCode': 'zh-TW'},\n",
       "   'takeout': True,\n",
       "   'dineIn': True,\n",
       "   'primaryType': 'coffee_shop'},\n",
       "  {'id': 'ChIJsygw_YipQjQR9OQ2KKEFI5Y',\n",
       "   'types': ['cafe', 'food', 'point_of_interest', 'establishment'],\n",
       "   'location': {'latitude': 25.0204797, 'longitude': 121.5335043},\n",
       "   'rating': 4.7,\n",
       "   'userRatingCount': 551,\n",
       "   'displayName': {'text': '聞山咖啡台大店', 'languageCode': 'zh-TW'},\n",
       "   'takeout': True,\n",
       "   'dineIn': True,\n",
       "   'primaryType': 'cafe'},\n",
       "  {'id': 'ChIJiYZJcompQjQRoI4OnWDl3zk',\n",
       "   'types': ['cafe',\n",
       "    'coffee_shop',\n",
       "    'food',\n",
       "    'point_of_interest',\n",
       "    'store',\n",
       "    'establishment'],\n",
       "   'location': {'latitude': 25.0188775, 'longitude': 121.5334191},\n",
       "   'rating': 4.6,\n",
       "   'userRatingCount': 392,\n",
       "   'displayName': {'text': '靈感咖啡 Vegan Coffee Shop', 'languageCode': 'zh-TW'},\n",
       "   'takeout': True,\n",
       "   'dineIn': True,\n",
       "   'primaryType': 'cafe'},\n",
       "  {'id': 'ChIJN1y6RacCaDQRElenCbyeN2w',\n",
       "   'types': ['cafe',\n",
       "    'brunch_restaurant',\n",
       "    'chinese_restaurant',\n",
       "    'coffee_shop',\n",
       "    'restaurant',\n",
       "    'food',\n",
       "    'point_of_interest',\n",
       "    'store',\n",
       "    'establishment'],\n",
       "   'location': {'latitude': 25.0204776, 'longitude': 121.5335175},\n",
       "   'rating': 4.3,\n",
       "   'userRatingCount': 392,\n",
       "   'displayName': {'text': '墨爾本布蕾斯咖啡廳 Melbourne Press Cafe | Brunch | Coffee Shop | 早午餐 | 咖啡廳 | 餐廳 |',\n",
       "    'languageCode': 'zh-TW'},\n",
       "   'takeout': True,\n",
       "   'dineIn': True,\n",
       "   'primaryType': 'cafe'},\n",
       "  {'id': 'ChIJ4yq9ZImpQjQRRJQu4sJSdwY',\n",
       "   'types': ['coffee_shop',\n",
       "    'cafe',\n",
       "    'food',\n",
       "    'point_of_interest',\n",
       "    'store',\n",
       "    'establishment'],\n",
       "   'location': {'latitude': 25.0182559, 'longitude': 121.53336809999998},\n",
       "   'rating': 4,\n",
       "   'userRatingCount': 789,\n",
       "   'displayName': {'text': '西雅圖極品咖啡 台大店', 'languageCode': 'zh-TW'},\n",
       "   'takeout': True,\n",
       "   'dineIn': True,\n",
       "   'primaryType': 'coffee_shop'},\n",
       "  {'id': 'ChIJCRed4JmpQjQRpOEwyWt1wwU',\n",
       "   'types': ['cafe', 'food', 'point_of_interest', 'establishment'],\n",
       "   'location': {'latitude': 25.020628799999997, 'longitude': 121.5329411},\n",
       "   'rating': 4.6,\n",
       "   'userRatingCount': 503,\n",
       "   'displayName': {'text': '達文西咖啡 - 台大旗艦店（溫州店）', 'languageCode': 'zh-TW'},\n",
       "   'takeout': True,\n",
       "   'dineIn': True,\n",
       "   'primaryType': 'cafe'},\n",
       "  {'id': 'ChIJ9ZdOiYipQjQRPPhSsgTk8J0',\n",
       "   'types': ['cafe', 'food', 'point_of_interest', 'establishment'],\n",
       "   'location': {'latitude': 25.022071, 'longitude': 121.53389689999999},\n",
       "   'rating': 4.4,\n",
       "   'userRatingCount': 879,\n",
       "   'displayName': {'text': '葛樂蒂咖啡館', 'languageCode': 'zh-TW'},\n",
       "   'takeout': True,\n",
       "   'dineIn': True,\n",
       "   'primaryType': 'cafe'},\n",
       "  {'id': 'ChIJAYjI7oipQjQRmqGtNWITDZU',\n",
       "   'types': ['cafe',\n",
       "    'clothing_store',\n",
       "    'food',\n",
       "    'point_of_interest',\n",
       "    'store',\n",
       "    'establishment'],\n",
       "   'location': {'latitude': 25.021349100000002,\n",
       "    'longitude': 121.53314549999997},\n",
       "   'rating': 4.4,\n",
       "   'userRatingCount': 636,\n",
       "   'displayName': {'text': 'AGCT apartment', 'languageCode': 'zh-TW'},\n",
       "   'takeout': True,\n",
       "   'dineIn': True,\n",
       "   'primaryType': 'cafe'},\n",
       "  {'id': 'ChIJ-09J7zupQjQRpE6bXqwDoQY',\n",
       "   'types': ['coffee_shop',\n",
       "    'cafe',\n",
       "    'food',\n",
       "    'point_of_interest',\n",
       "    'store',\n",
       "    'establishment'],\n",
       "   'location': {'latitude': 25.0213577, 'longitude': 121.5331471},\n",
       "   'rating': 4.1,\n",
       "   'userRatingCount': 128,\n",
       "   'displayName': {'text': '羊跳蚤', 'languageCode': 'zh-TW'},\n",
       "   'takeout': True,\n",
       "   'dineIn': True,\n",
       "   'primaryType': 'coffee_shop'},\n",
       "  {'id': 'ChIJ54r5aYmpQjQRSPx1fqonWXc',\n",
       "   'types': ['cafe', 'food', 'point_of_interest', 'establishment'],\n",
       "   'location': {'latitude': 25.0196006, 'longitude': 121.53239429999999},\n",
       "   'rating': 4.2,\n",
       "   'userRatingCount': 466,\n",
       "   'displayName': {'text': '雪可屋', 'languageCode': 'zh-TW'},\n",
       "   'takeout': True,\n",
       "   'dineIn': True,\n",
       "   'primaryType': 'cafe'}]}"
      ]
     },
     "execution_count": 15,
     "metadata": {},
     "output_type": "execute_result"
    }
   ],
   "source": [
    "response.json()"
   ]
  },
  {
   "cell_type": "code",
   "execution_count": 16,
   "id": "0e0b655e-8864-4a23-a940-47359b5f8b41",
   "metadata": {
    "colab": {
     "base_uri": "https://localhost:8080/"
    },
    "id": "0e0b655e-8864-4a23-a940-47359b5f8b41",
    "outputId": "1ed6ed9d-e0f7-4563-d9ea-63f9008df666"
   },
   "outputs": [
    {
     "data": {
      "text/plain": [
       "[{'id': 'ChIJffQZ6YipQjQRAdV3sCg2bcM',\n",
       "  'types': ['coffee_shop',\n",
       "   'cafe',\n",
       "   'restaurant',\n",
       "   'food',\n",
       "   'point_of_interest',\n",
       "   'store',\n",
       "   'establishment'],\n",
       "  'location': {'latitude': 25.021369000000004,\n",
       "   'longitude': 121.53295240000001},\n",
       "  'rating': 4.3,\n",
       "  'userRatingCount': 714,\n",
       "  'displayName': {'text': 'Rebirth Cafe & Restaurant',\n",
       "   'languageCode': 'zh-TW'},\n",
       "  'takeout': True,\n",
       "  'dineIn': True,\n",
       "  'primaryType': 'coffee_shop'},\n",
       " {'id': 'ChIJsygw_YipQjQR9OQ2KKEFI5Y',\n",
       "  'types': ['cafe', 'food', 'point_of_interest', 'establishment'],\n",
       "  'location': {'latitude': 25.0204797, 'longitude': 121.5335043},\n",
       "  'rating': 4.7,\n",
       "  'userRatingCount': 551,\n",
       "  'displayName': {'text': '聞山咖啡台大店', 'languageCode': 'zh-TW'},\n",
       "  'takeout': True,\n",
       "  'dineIn': True,\n",
       "  'primaryType': 'cafe'},\n",
       " {'id': 'ChIJiYZJcompQjQRoI4OnWDl3zk',\n",
       "  'types': ['cafe',\n",
       "   'coffee_shop',\n",
       "   'food',\n",
       "   'point_of_interest',\n",
       "   'store',\n",
       "   'establishment'],\n",
       "  'location': {'latitude': 25.0188775, 'longitude': 121.5334191},\n",
       "  'rating': 4.6,\n",
       "  'userRatingCount': 392,\n",
       "  'displayName': {'text': '靈感咖啡 Vegan Coffee Shop', 'languageCode': 'zh-TW'},\n",
       "  'takeout': True,\n",
       "  'dineIn': True,\n",
       "  'primaryType': 'cafe'},\n",
       " {'id': 'ChIJN1y6RacCaDQRElenCbyeN2w',\n",
       "  'types': ['cafe',\n",
       "   'brunch_restaurant',\n",
       "   'chinese_restaurant',\n",
       "   'coffee_shop',\n",
       "   'restaurant',\n",
       "   'food',\n",
       "   'point_of_interest',\n",
       "   'store',\n",
       "   'establishment'],\n",
       "  'location': {'latitude': 25.0204776, 'longitude': 121.5335175},\n",
       "  'rating': 4.3,\n",
       "  'userRatingCount': 392,\n",
       "  'displayName': {'text': '墨爾本布蕾斯咖啡廳 Melbourne Press Cafe | Brunch | Coffee Shop | 早午餐 | 咖啡廳 | 餐廳 |',\n",
       "   'languageCode': 'zh-TW'},\n",
       "  'takeout': True,\n",
       "  'dineIn': True,\n",
       "  'primaryType': 'cafe'},\n",
       " {'id': 'ChIJ4yq9ZImpQjQRRJQu4sJSdwY',\n",
       "  'types': ['coffee_shop',\n",
       "   'cafe',\n",
       "   'food',\n",
       "   'point_of_interest',\n",
       "   'store',\n",
       "   'establishment'],\n",
       "  'location': {'latitude': 25.0182559, 'longitude': 121.53336809999998},\n",
       "  'rating': 4,\n",
       "  'userRatingCount': 789,\n",
       "  'displayName': {'text': '西雅圖極品咖啡 台大店', 'languageCode': 'zh-TW'},\n",
       "  'takeout': True,\n",
       "  'dineIn': True,\n",
       "  'primaryType': 'coffee_shop'},\n",
       " {'id': 'ChIJCRed4JmpQjQRpOEwyWt1wwU',\n",
       "  'types': ['cafe', 'food', 'point_of_interest', 'establishment'],\n",
       "  'location': {'latitude': 25.020628799999997, 'longitude': 121.5329411},\n",
       "  'rating': 4.6,\n",
       "  'userRatingCount': 503,\n",
       "  'displayName': {'text': '達文西咖啡 - 台大旗艦店（溫州店）', 'languageCode': 'zh-TW'},\n",
       "  'takeout': True,\n",
       "  'dineIn': True,\n",
       "  'primaryType': 'cafe'},\n",
       " {'id': 'ChIJ9ZdOiYipQjQRPPhSsgTk8J0',\n",
       "  'types': ['cafe', 'food', 'point_of_interest', 'establishment'],\n",
       "  'location': {'latitude': 25.022071, 'longitude': 121.53389689999999},\n",
       "  'rating': 4.4,\n",
       "  'userRatingCount': 879,\n",
       "  'displayName': {'text': '葛樂蒂咖啡館', 'languageCode': 'zh-TW'},\n",
       "  'takeout': True,\n",
       "  'dineIn': True,\n",
       "  'primaryType': 'cafe'},\n",
       " {'id': 'ChIJAYjI7oipQjQRmqGtNWITDZU',\n",
       "  'types': ['cafe',\n",
       "   'clothing_store',\n",
       "   'food',\n",
       "   'point_of_interest',\n",
       "   'store',\n",
       "   'establishment'],\n",
       "  'location': {'latitude': 25.021349100000002,\n",
       "   'longitude': 121.53314549999997},\n",
       "  'rating': 4.4,\n",
       "  'userRatingCount': 636,\n",
       "  'displayName': {'text': 'AGCT apartment', 'languageCode': 'zh-TW'},\n",
       "  'takeout': True,\n",
       "  'dineIn': True,\n",
       "  'primaryType': 'cafe'},\n",
       " {'id': 'ChIJ-09J7zupQjQRpE6bXqwDoQY',\n",
       "  'types': ['coffee_shop',\n",
       "   'cafe',\n",
       "   'food',\n",
       "   'point_of_interest',\n",
       "   'store',\n",
       "   'establishment'],\n",
       "  'location': {'latitude': 25.0213577, 'longitude': 121.5331471},\n",
       "  'rating': 4.1,\n",
       "  'userRatingCount': 128,\n",
       "  'displayName': {'text': '羊跳蚤', 'languageCode': 'zh-TW'},\n",
       "  'takeout': True,\n",
       "  'dineIn': True,\n",
       "  'primaryType': 'coffee_shop'},\n",
       " {'id': 'ChIJ54r5aYmpQjQRSPx1fqonWXc',\n",
       "  'types': ['cafe', 'food', 'point_of_interest', 'establishment'],\n",
       "  'location': {'latitude': 25.0196006, 'longitude': 121.53239429999999},\n",
       "  'rating': 4.2,\n",
       "  'userRatingCount': 466,\n",
       "  'displayName': {'text': '雪可屋', 'languageCode': 'zh-TW'},\n",
       "  'takeout': True,\n",
       "  'dineIn': True,\n",
       "  'primaryType': 'cafe'}]"
      ]
     },
     "execution_count": 16,
     "metadata": {},
     "output_type": "execute_result"
    }
   ],
   "source": [
    "# 取出 key 為 'places' 的值，為一包含多個 Place 物件的 list\n",
    "places_list = response.json()['places']\n",
    "places_list"
   ]
  },
  {
   "cell_type": "markdown",
   "id": "i8ULqya3Le6E",
   "metadata": {
    "id": "i8ULqya3Le6E"
   },
   "source": [
    "## 3. 解析 API 回應並儲存\n"
   ]
  },
  {
   "cell_type": "markdown",
   "id": "E6JZcYyDKti7",
   "metadata": {
    "id": "E6JZcYyDKti7"
   },
   "source": [
    "提取每個地點中的所需資訊"
   ]
  },
  {
   "cell_type": "code",
   "execution_count": 17,
   "id": "c6a675de-c97b-40bc-939c-86a93a038968",
   "metadata": {
    "colab": {
     "base_uri": "https://localhost:8080/"
    },
    "id": "c6a675de-c97b-40bc-939c-86a93a038968",
    "outputId": "4264b110-e38b-41fb-ce26-732736806fa9"
   },
   "outputs": [
    {
     "data": {
      "text/plain": [
       "[{'id': 'ChIJffQZ6YipQjQRAdV3sCg2bcM',\n",
       "  'name': 'Rebirth Cafe & Restaurant',\n",
       "  'rating': 4.3,\n",
       "  'rating_count': 714,\n",
       "  'is_restaurant': True,\n",
       "  'primary_type': 'coffee_shop',\n",
       "  'lat': 25.021369000000004,\n",
       "  'lng': 121.53295240000001,\n",
       "  'dine_in': True,\n",
       "  'takeout': True},\n",
       " {'id': 'ChIJsygw_YipQjQR9OQ2KKEFI5Y',\n",
       "  'name': '聞山咖啡台大店',\n",
       "  'rating': 4.7,\n",
       "  'rating_count': 551,\n",
       "  'is_restaurant': False,\n",
       "  'primary_type': 'cafe',\n",
       "  'lat': 25.0204797,\n",
       "  'lng': 121.5335043,\n",
       "  'dine_in': True,\n",
       "  'takeout': True}]"
      ]
     },
     "execution_count": 17,
     "metadata": {},
     "output_type": "execute_result"
    }
   ],
   "source": [
    "# 建立一個空的 list\n",
    "places = []\n",
    "\n",
    "# 遍歷 places_list 中的每個 dictionary\n",
    "for place in places_list:\n",
    "\n",
    "    # 紀錄所需商家資訊\n",
    "    place_info = {\n",
    "        \"id\": place['id'],\n",
    "        \"name\": place['displayName']['text'],\n",
    "        \"rating\": place['rating'],\n",
    "        \"rating_count\": place['userRatingCount'],\n",
    "        \"is_restaurant\": \"restaurant\" in place['types'],\n",
    "        \"primary_type\": place['primaryType'],\n",
    "        \"lat\": place['location']['latitude'],\n",
    "        \"lng\": place['location']['longitude'],\n",
    "        \"dine_in\": place.get('dineIn', False),\n",
    "        \"takeout\": place.get('takeout', False)\n",
    "    }\n",
    "\n",
    "    # 將記錄下來的資訊加到 list 中\n",
    "    places.append(place_info)\n",
    "\n",
    "places[:2]"
   ]
  },
  {
   "cell_type": "code",
   "execution_count": 18,
   "id": "6a30e5b8-6ed0-484a-8e98-946874013aa2",
   "metadata": {
    "colab": {
     "base_uri": "https://localhost:8080/",
     "height": 415
    },
    "id": "6a30e5b8-6ed0-484a-8e98-946874013aa2",
    "outputId": "d2c93441-b596-4038-d365-5180673ec468"
   },
   "outputs": [
    {
     "data": {
      "text/html": [
       "<div>\n",
       "<style scoped>\n",
       "    .dataframe tbody tr th:only-of-type {\n",
       "        vertical-align: middle;\n",
       "    }\n",
       "\n",
       "    .dataframe tbody tr th {\n",
       "        vertical-align: top;\n",
       "    }\n",
       "\n",
       "    .dataframe thead th {\n",
       "        text-align: right;\n",
       "    }\n",
       "</style>\n",
       "<table border=\"1\" class=\"dataframe\">\n",
       "  <thead>\n",
       "    <tr style=\"text-align: right;\">\n",
       "      <th></th>\n",
       "      <th>id</th>\n",
       "      <th>name</th>\n",
       "      <th>rating</th>\n",
       "      <th>rating_count</th>\n",
       "      <th>is_restaurant</th>\n",
       "      <th>primary_type</th>\n",
       "      <th>lat</th>\n",
       "      <th>lng</th>\n",
       "      <th>dine_in</th>\n",
       "      <th>takeout</th>\n",
       "    </tr>\n",
       "  </thead>\n",
       "  <tbody>\n",
       "    <tr>\n",
       "      <th>0</th>\n",
       "      <td>ChIJffQZ6YipQjQRAdV3sCg2bcM</td>\n",
       "      <td>Rebirth Cafe &amp; Restaurant</td>\n",
       "      <td>4.3</td>\n",
       "      <td>714</td>\n",
       "      <td>True</td>\n",
       "      <td>coffee_shop</td>\n",
       "      <td>25.021369</td>\n",
       "      <td>121.532952</td>\n",
       "      <td>True</td>\n",
       "      <td>True</td>\n",
       "    </tr>\n",
       "    <tr>\n",
       "      <th>1</th>\n",
       "      <td>ChIJsygw_YipQjQR9OQ2KKEFI5Y</td>\n",
       "      <td>聞山咖啡台大店</td>\n",
       "      <td>4.7</td>\n",
       "      <td>551</td>\n",
       "      <td>False</td>\n",
       "      <td>cafe</td>\n",
       "      <td>25.020480</td>\n",
       "      <td>121.533504</td>\n",
       "      <td>True</td>\n",
       "      <td>True</td>\n",
       "    </tr>\n",
       "    <tr>\n",
       "      <th>2</th>\n",
       "      <td>ChIJiYZJcompQjQRoI4OnWDl3zk</td>\n",
       "      <td>靈感咖啡 Vegan Coffee Shop</td>\n",
       "      <td>4.6</td>\n",
       "      <td>392</td>\n",
       "      <td>False</td>\n",
       "      <td>cafe</td>\n",
       "      <td>25.018877</td>\n",
       "      <td>121.533419</td>\n",
       "      <td>True</td>\n",
       "      <td>True</td>\n",
       "    </tr>\n",
       "    <tr>\n",
       "      <th>3</th>\n",
       "      <td>ChIJN1y6RacCaDQRElenCbyeN2w</td>\n",
       "      <td>墨爾本布蕾斯咖啡廳 Melbourne Press Cafe | Brunch | Coff...</td>\n",
       "      <td>4.3</td>\n",
       "      <td>392</td>\n",
       "      <td>True</td>\n",
       "      <td>cafe</td>\n",
       "      <td>25.020478</td>\n",
       "      <td>121.533518</td>\n",
       "      <td>True</td>\n",
       "      <td>True</td>\n",
       "    </tr>\n",
       "    <tr>\n",
       "      <th>4</th>\n",
       "      <td>ChIJ4yq9ZImpQjQRRJQu4sJSdwY</td>\n",
       "      <td>西雅圖極品咖啡 台大店</td>\n",
       "      <td>4.0</td>\n",
       "      <td>789</td>\n",
       "      <td>False</td>\n",
       "      <td>coffee_shop</td>\n",
       "      <td>25.018256</td>\n",
       "      <td>121.533368</td>\n",
       "      <td>True</td>\n",
       "      <td>True</td>\n",
       "    </tr>\n",
       "    <tr>\n",
       "      <th>5</th>\n",
       "      <td>ChIJCRed4JmpQjQRpOEwyWt1wwU</td>\n",
       "      <td>達文西咖啡 - 台大旗艦店（溫州店）</td>\n",
       "      <td>4.6</td>\n",
       "      <td>503</td>\n",
       "      <td>False</td>\n",
       "      <td>cafe</td>\n",
       "      <td>25.020629</td>\n",
       "      <td>121.532941</td>\n",
       "      <td>True</td>\n",
       "      <td>True</td>\n",
       "    </tr>\n",
       "    <tr>\n",
       "      <th>6</th>\n",
       "      <td>ChIJ9ZdOiYipQjQRPPhSsgTk8J0</td>\n",
       "      <td>葛樂蒂咖啡館</td>\n",
       "      <td>4.4</td>\n",
       "      <td>879</td>\n",
       "      <td>False</td>\n",
       "      <td>cafe</td>\n",
       "      <td>25.022071</td>\n",
       "      <td>121.533897</td>\n",
       "      <td>True</td>\n",
       "      <td>True</td>\n",
       "    </tr>\n",
       "    <tr>\n",
       "      <th>7</th>\n",
       "      <td>ChIJAYjI7oipQjQRmqGtNWITDZU</td>\n",
       "      <td>AGCT apartment</td>\n",
       "      <td>4.4</td>\n",
       "      <td>636</td>\n",
       "      <td>False</td>\n",
       "      <td>cafe</td>\n",
       "      <td>25.021349</td>\n",
       "      <td>121.533145</td>\n",
       "      <td>True</td>\n",
       "      <td>True</td>\n",
       "    </tr>\n",
       "    <tr>\n",
       "      <th>8</th>\n",
       "      <td>ChIJ-09J7zupQjQRpE6bXqwDoQY</td>\n",
       "      <td>羊跳蚤</td>\n",
       "      <td>4.1</td>\n",
       "      <td>128</td>\n",
       "      <td>False</td>\n",
       "      <td>coffee_shop</td>\n",
       "      <td>25.021358</td>\n",
       "      <td>121.533147</td>\n",
       "      <td>True</td>\n",
       "      <td>True</td>\n",
       "    </tr>\n",
       "    <tr>\n",
       "      <th>9</th>\n",
       "      <td>ChIJ54r5aYmpQjQRSPx1fqonWXc</td>\n",
       "      <td>雪可屋</td>\n",
       "      <td>4.2</td>\n",
       "      <td>466</td>\n",
       "      <td>False</td>\n",
       "      <td>cafe</td>\n",
       "      <td>25.019601</td>\n",
       "      <td>121.532394</td>\n",
       "      <td>True</td>\n",
       "      <td>True</td>\n",
       "    </tr>\n",
       "  </tbody>\n",
       "</table>\n",
       "</div>"
      ],
      "text/plain": [
       "                            id  \\\n",
       "0  ChIJffQZ6YipQjQRAdV3sCg2bcM   \n",
       "1  ChIJsygw_YipQjQR9OQ2KKEFI5Y   \n",
       "2  ChIJiYZJcompQjQRoI4OnWDl3zk   \n",
       "3  ChIJN1y6RacCaDQRElenCbyeN2w   \n",
       "4  ChIJ4yq9ZImpQjQRRJQu4sJSdwY   \n",
       "5  ChIJCRed4JmpQjQRpOEwyWt1wwU   \n",
       "6  ChIJ9ZdOiYipQjQRPPhSsgTk8J0   \n",
       "7  ChIJAYjI7oipQjQRmqGtNWITDZU   \n",
       "8  ChIJ-09J7zupQjQRpE6bXqwDoQY   \n",
       "9  ChIJ54r5aYmpQjQRSPx1fqonWXc   \n",
       "\n",
       "                                                name  rating  rating_count  \\\n",
       "0                          Rebirth Cafe & Restaurant     4.3           714   \n",
       "1                                            聞山咖啡台大店     4.7           551   \n",
       "2                             靈感咖啡 Vegan Coffee Shop     4.6           392   \n",
       "3  墨爾本布蕾斯咖啡廳 Melbourne Press Cafe | Brunch | Coff...     4.3           392   \n",
       "4                                        西雅圖極品咖啡 台大店     4.0           789   \n",
       "5                                 達文西咖啡 - 台大旗艦店（溫州店）     4.6           503   \n",
       "6                                             葛樂蒂咖啡館     4.4           879   \n",
       "7                                     AGCT apartment     4.4           636   \n",
       "8                                                羊跳蚤     4.1           128   \n",
       "9                                                雪可屋     4.2           466   \n",
       "\n",
       "   is_restaurant primary_type        lat         lng  dine_in  takeout  \n",
       "0           True  coffee_shop  25.021369  121.532952     True     True  \n",
       "1          False         cafe  25.020480  121.533504     True     True  \n",
       "2          False         cafe  25.018877  121.533419     True     True  \n",
       "3           True         cafe  25.020478  121.533518     True     True  \n",
       "4          False  coffee_shop  25.018256  121.533368     True     True  \n",
       "5          False         cafe  25.020629  121.532941     True     True  \n",
       "6          False         cafe  25.022071  121.533897     True     True  \n",
       "7          False         cafe  25.021349  121.533145     True     True  \n",
       "8          False  coffee_shop  25.021358  121.533147     True     True  \n",
       "9          False         cafe  25.019601  121.532394     True     True  "
      ]
     },
     "execution_count": 18,
     "metadata": {},
     "output_type": "execute_result"
    }
   ],
   "source": [
    "# 轉換成 pandas DataFrame 並輸出儲存\n",
    "df = pd.DataFrame(places)\n",
    "df"
   ]
  },
  {
   "cell_type": "code",
   "execution_count": 19,
   "id": "23318916-e566-471a-87e6-be2e35b6b054",
   "metadata": {
    "id": "23318916-e566-471a-87e6-be2e35b6b054"
   },
   "outputs": [],
   "source": [
    "# 儲存至指定路徑\n",
    "current_directory = os.getcwd()\n",
    "df.to_csv(f\"{current_directory}/../output/cafe_details.csv\", index=False)"
   ]
  }
 ],
 "metadata": {
  "colab": {
   "provenance": []
  },
  "kernelspec": {
   "display_name": "Python 3 (ipykernel)",
   "language": "python",
   "name": "python3"
  },
  "language_info": {
   "codemirror_mode": {
    "name": "ipython",
    "version": 3
   },
   "file_extension": ".py",
   "mimetype": "text/x-python",
   "name": "python",
   "nbconvert_exporter": "python",
   "pygments_lexer": "ipython3",
   "version": "3.10.9"
  },
  "toc-autonumbering": false,
  "toc-showcode": false,
  "toc-showmarkdowntxt": false
 },
 "nbformat": 4,
 "nbformat_minor": 5
}
